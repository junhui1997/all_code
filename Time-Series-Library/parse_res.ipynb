{
 "cells": [
  {
   "cell_type": "code",
   "execution_count": 92,
   "id": "4b8bc5a3",
   "metadata": {},
   "outputs": [
    {
     "name": "stdout",
     "output_type": "stream",
     "text": [
      "117 117\n"
     ]
    }
   ],
   "source": [
    "import re\n",
    "file_path = 'result_classification.txt'\n",
    "\n",
    "with open(file_path, 'r') as file:\n",
    "    lines = file.readlines()\n",
    "\n",
    "def list2str(l):\n",
    "    s = ''\n",
    "    for ll in l:\n",
    "        s+=ll\n",
    "    return s\n",
    "accuracies = []\n",
    "models = []\n",
    "elayers =[]\n",
    "filters =[]\n",
    "itrs = []\n",
    "for line in lines:\n",
    "    if line.startswith('accuracy:'):\n",
    "        accuracy = float(line.split(':')[1])\n",
    "        accuracies.append(accuracy)\n",
    "    if line.startswith('classification'):\n",
    "        pattern_model = r'classification_bone_c_(.*?)_bone_drill_c'\n",
    "        model = list2str(re.findall(pattern_model, ''.join(line)))\n",
    "        \n",
    "        pattern_elayer = r'el(.*?)_'\n",
    "        elayer = list2str(re.findall(pattern_elayer, ''.join(line)))\n",
    "        \n",
    "        start_index = line.index(\"'Exp'\") + len(\"'Exp'\")\n",
    "        info = line[start_index+1:]\n",
    "        filter_type = info.split('_')[0]\n",
    "        itr = int(info.split('_')[-1])\n",
    "        models.append(model)\n",
    "        elayers.append(elayer)\n",
    "        filters.append(filter_type)\n",
    "        itrs.append(itr)\n",
    "        #print(model,elayer,filter_type,itr)\n",
    "\n",
    "#print('Accuracies:', accuracies)\n",
    "print(len(accuracies),len(models))"
   ]
  },
  {
   "cell_type": "code",
   "execution_count": 93,
   "id": "c0cffeed",
   "metadata": {},
   "outputs": [
    {
     "data": {
      "text/html": [
       "<div>\n",
       "<style scoped>\n",
       "    .dataframe tbody tr th:only-of-type {\n",
       "        vertical-align: middle;\n",
       "    }\n",
       "\n",
       "    .dataframe tbody tr th {\n",
       "        vertical-align: top;\n",
       "    }\n",
       "\n",
       "    .dataframe thead th {\n",
       "        text-align: right;\n",
       "    }\n",
       "</style>\n",
       "<table border=\"1\" class=\"dataframe\">\n",
       "  <thead>\n",
       "    <tr style=\"text-align: right;\">\n",
       "      <th></th>\n",
       "      <th>model</th>\n",
       "      <th>elayer</th>\n",
       "      <th>filter</th>\n",
       "      <th>iter</th>\n",
       "      <th>acc</th>\n",
       "    </tr>\n",
       "  </thead>\n",
       "  <tbody>\n",
       "    <tr>\n",
       "      <th>0</th>\n",
       "      <td>conv_next</td>\n",
       "      <td>1</td>\n",
       "      <td>low</td>\n",
       "      <td>0</td>\n",
       "      <td>0.726452</td>\n",
       "    </tr>\n",
       "    <tr>\n",
       "      <th>1</th>\n",
       "      <td>conv_next</td>\n",
       "      <td>1</td>\n",
       "      <td>mean</td>\n",
       "      <td>0</td>\n",
       "      <td>0.749677</td>\n",
       "    </tr>\n",
       "    <tr>\n",
       "      <th>2</th>\n",
       "      <td>lstm_fcn</td>\n",
       "      <td>1</td>\n",
       "      <td>mean</td>\n",
       "      <td>0</td>\n",
       "      <td>0.745806</td>\n",
       "    </tr>\n",
       "    <tr>\n",
       "      <th>3</th>\n",
       "      <td>lstm_fcn</td>\n",
       "      <td>1</td>\n",
       "      <td>mean</td>\n",
       "      <td>0</td>\n",
       "      <td>0.753548</td>\n",
       "    </tr>\n",
       "    <tr>\n",
       "      <th>4</th>\n",
       "      <td>lstm</td>\n",
       "      <td>1</td>\n",
       "      <td>mean</td>\n",
       "      <td>0</td>\n",
       "      <td>0.727742</td>\n",
       "    </tr>\n",
       "    <tr>\n",
       "      <th>...</th>\n",
       "      <td>...</td>\n",
       "      <td>...</td>\n",
       "      <td>...</td>\n",
       "      <td>...</td>\n",
       "      <td>...</td>\n",
       "    </tr>\n",
       "    <tr>\n",
       "      <th>112</th>\n",
       "      <td>my</td>\n",
       "      <td>2</td>\n",
       "      <td>mean</td>\n",
       "      <td>0</td>\n",
       "      <td>0.721399</td>\n",
       "    </tr>\n",
       "    <tr>\n",
       "      <th>113</th>\n",
       "      <td>my</td>\n",
       "      <td>2</td>\n",
       "      <td>mean</td>\n",
       "      <td>1</td>\n",
       "      <td>0.736702</td>\n",
       "    </tr>\n",
       "    <tr>\n",
       "      <th>114</th>\n",
       "      <td>my</td>\n",
       "      <td>2</td>\n",
       "      <td>mean</td>\n",
       "      <td>2</td>\n",
       "      <td>0.643008</td>\n",
       "    </tr>\n",
       "    <tr>\n",
       "      <th>115</th>\n",
       "      <td>my</td>\n",
       "      <td>2</td>\n",
       "      <td>mean</td>\n",
       "      <td>3</td>\n",
       "      <td>0.650815</td>\n",
       "    </tr>\n",
       "    <tr>\n",
       "      <th>116</th>\n",
       "      <td>my</td>\n",
       "      <td>2</td>\n",
       "      <td>mean</td>\n",
       "      <td>4</td>\n",
       "      <td>0.642514</td>\n",
       "    </tr>\n",
       "  </tbody>\n",
       "</table>\n",
       "<p>117 rows × 5 columns</p>\n",
       "</div>"
      ],
      "text/plain": [
       "         model elayer filter  iter       acc\n",
       "0    conv_next      1    low     0  0.726452\n",
       "1    conv_next      1   mean     0  0.749677\n",
       "2     lstm_fcn      1   mean     0  0.745806\n",
       "3     lstm_fcn      1   mean     0  0.753548\n",
       "4         lstm      1   mean     0  0.727742\n",
       "..         ...    ...    ...   ...       ...\n",
       "112         my      2   mean     0  0.721399\n",
       "113         my      2   mean     1  0.736702\n",
       "114         my      2   mean     2  0.643008\n",
       "115         my      2   mean     3  0.650815\n",
       "116         my      2   mean     4  0.642514\n",
       "\n",
       "[117 rows x 5 columns]"
      ]
     },
     "execution_count": 93,
     "metadata": {},
     "output_type": "execute_result"
    }
   ],
   "source": [
    "import pandas as pd\n",
    "df = pd.DataFrame({\"model\": models,\n",
    "                   \"elayer\": elayers,\n",
    "                   \"filter\":filters,\n",
    "                   \"iter\":itrs,\n",
    "                   \"acc\":accuracies})\n",
    "df"
   ]
  },
  {
   "cell_type": "code",
   "execution_count": 94,
   "id": "484ca2c4",
   "metadata": {},
   "outputs": [
    {
     "data": {
      "text/html": [
       "<div>\n",
       "<style scoped>\n",
       "    .dataframe tbody tr th:only-of-type {\n",
       "        vertical-align: middle;\n",
       "    }\n",
       "\n",
       "    .dataframe tbody tr th {\n",
       "        vertical-align: top;\n",
       "    }\n",
       "\n",
       "    .dataframe thead th {\n",
       "        text-align: right;\n",
       "    }\n",
       "</style>\n",
       "<table border=\"1\" class=\"dataframe\">\n",
       "  <thead>\n",
       "    <tr style=\"text-align: right;\">\n",
       "      <th></th>\n",
       "      <th>model</th>\n",
       "      <th>elayer</th>\n",
       "      <th>filter</th>\n",
       "      <th>iter</th>\n",
       "      <th>acc</th>\n",
       "    </tr>\n",
       "  </thead>\n",
       "  <tbody>\n",
       "    <tr>\n",
       "      <th>112</th>\n",
       "      <td>my</td>\n",
       "      <td>2</td>\n",
       "      <td>mean</td>\n",
       "      <td>0</td>\n",
       "      <td>0.721399</td>\n",
       "    </tr>\n",
       "    <tr>\n",
       "      <th>113</th>\n",
       "      <td>my</td>\n",
       "      <td>2</td>\n",
       "      <td>mean</td>\n",
       "      <td>1</td>\n",
       "      <td>0.736702</td>\n",
       "    </tr>\n",
       "    <tr>\n",
       "      <th>114</th>\n",
       "      <td>my</td>\n",
       "      <td>2</td>\n",
       "      <td>mean</td>\n",
       "      <td>2</td>\n",
       "      <td>0.643008</td>\n",
       "    </tr>\n",
       "    <tr>\n",
       "      <th>115</th>\n",
       "      <td>my</td>\n",
       "      <td>2</td>\n",
       "      <td>mean</td>\n",
       "      <td>3</td>\n",
       "      <td>0.650815</td>\n",
       "    </tr>\n",
       "    <tr>\n",
       "      <th>116</th>\n",
       "      <td>my</td>\n",
       "      <td>2</td>\n",
       "      <td>mean</td>\n",
       "      <td>4</td>\n",
       "      <td>0.642514</td>\n",
       "    </tr>\n",
       "  </tbody>\n",
       "</table>\n",
       "</div>"
      ],
      "text/plain": [
       "    model elayer filter  iter       acc\n",
       "112    my      2   mean     0  0.721399\n",
       "113    my      2   mean     1  0.736702\n",
       "114    my      2   mean     2  0.643008\n",
       "115    my      2   mean     3  0.650815\n",
       "116    my      2   mean     4  0.642514"
      ]
     },
     "execution_count": 94,
     "metadata": {},
     "output_type": "execute_result"
    }
   ],
   "source": [
    "dff = df[-5::]\n",
    "dff\n",
    "\n"
   ]
  },
  {
   "cell_type": "code",
   "execution_count": 95,
   "id": "243555ff",
   "metadata": {},
   "outputs": [
    {
     "data": {
      "text/plain": [
       "0.6788877469978118"
      ]
     },
     "execution_count": 95,
     "metadata": {},
     "output_type": "execute_result"
    }
   ],
   "source": [
    "dff['acc'].mean()"
   ]
  },
  {
   "cell_type": "code",
   "execution_count": 59,
   "id": "e0984057",
   "metadata": {},
   "outputs": [],
   "source": [
    "# 设置种子为当前时间戳\n",
    "random.seed(0)"
   ]
  },
  {
   "cell_type": "code",
   "execution_count": 67,
   "id": "073551d8",
   "metadata": {},
   "outputs": [
    {
     "name": "stdout",
     "output_type": "stream",
     "text": [
      "56\n",
      "41\n",
      "79\n",
      "82\n",
      "27\n"
     ]
    }
   ],
   "source": [
    "import random\n",
    "\n",
    "\n",
    "# 生成随机整数\n",
    "for i in range(5):\n",
    "    random_number = random.randint(1, 100)\n",
    "    print(random_number)\n",
    "\n",
    "\n"
   ]
  },
  {
   "cell_type": "code",
   "execution_count": null,
   "id": "325bffc0",
   "metadata": {},
   "outputs": [],
   "source": [
    "3592042239\n",
    "1736050280\n",
    "3686380748\n",
    "2704801039\n",
    "2336936075"
   ]
  },
  {
   "cell_type": "code",
   "execution_count": 69,
   "id": "6f9fa6c8",
   "metadata": {},
   "outputs": [
    {
     "data": {
      "text/plain": [
       "[1, 2, 3, 1]"
      ]
     },
     "execution_count": 69,
     "metadata": {},
     "output_type": "execute_result"
    }
   ],
   "source": [
    "[1,2,3]+[1]"
   ]
  },
  {
   "cell_type": "code",
   "execution_count": 71,
   "id": "f1d7cfb2",
   "metadata": {},
   "outputs": [
    {
     "data": {
      "text/plain": [
       "[]"
      ]
     },
     "execution_count": 71,
     "metadata": {},
     "output_type": "execute_result"
    }
   ],
   "source": [
    "a = [1,2,3,4,5]\n",
    "a[0:0]"
   ]
  },
  {
   "cell_type": "code",
   "execution_count": 72,
   "id": "ea0e31ba",
   "metadata": {},
   "outputs": [
    {
     "data": {
      "text/plain": [
       "[1]"
      ]
     },
     "execution_count": 72,
     "metadata": {},
     "output_type": "execute_result"
    }
   ],
   "source": [
    "a[0:0]+[1]"
   ]
  },
  {
   "attachments": {
    "image.png": {
     "image/png": "[encoded data removed]"
    }
   },
   "cell_type": "markdown",
   "id": "97681da7",
   "metadata": {},
   "source": [
    "- 250\n",
    "- 0.6780735811118614\n",
    "![image.png](attachment:image.png)"
   ]
  },
  {
   "attachments": {
    "image.png": {
     "image/png": "[encoded data removed]"
    }
   },
   "cell_type": "markdown",
   "id": "18e13ab9",
   "metadata": {},
   "source": [
    " - 500\n",
    " - 0.6940652338798191\n",
    " - ![image.png](attachment:image.png)"
   ]
  },
  {
   "attachments": {
    "image.png": {
     "image/png": "[encoded data removed]"
    }
   },
   "cell_type": "markdown",
   "id": "0e028a4a",
   "metadata": {},
   "source": [
    "- 1000\n",
    "- 0.7211055319220417\n",
    "![image.png](attachment:image.png)"
   ]
  },
  {
   "cell_type": "code",
   "execution_count": 78,
   "id": "1763098a",
   "metadata": {},
   "outputs": [
    {
     "data": {
      "text/plain": [
       "0.6780735811118614"
      ]
     },
     "execution_count": 78,
     "metadata": {},
     "output_type": "execute_result"
    }
   ],
   "source": [
    "1000 0.7207143405426363\n",
    "500 0.7030719195186041\n",
    "250 0.6788877469978118"
   ]
  }
 ],
 "metadata": {
  "kernelspec": {
   "display_name": "Python 3 (ipykernel)",
   "language": "python",
   "name": "python3"
  },
  "language_info": {
   "codemirror_mode": {
    "name": "ipython",
    "version": 3
   },
   "file_extension": ".py",
   "mimetype": "text/x-python",
   "name": "python",
   "nbconvert_exporter": "python",
   "pygments_lexer": "ipython3",
   "version": "3.9.13"
  },
  "toc": {
   "base_numbering": 1,
   "nav_menu": {},
   "number_sections": true,
   "sideBar": true,
   "skip_h1_title": false,
   "title_cell": "Table of Contents",
   "title_sidebar": "Contents",
   "toc_cell": false,
   "toc_position": {},
   "toc_section_display": true,
   "toc_window_display": false
  }
 },
 "nbformat": 4,
 "nbformat_minor": 5
}
